{
  "nbformat": 4,
  "nbformat_minor": 0,
  "metadata": {
    "colab": {
      "name": "Happy Fun Times.ipynb",
      "provenance": [],
      "toc_visible": true,
      "authorship_tag": "ABX9TyOHDeyNz5R7H8BnF5eNUuCc",
      "include_colab_link": true
    },
    "kernelspec": {
      "name": "python3",
      "display_name": "Python 3"
    },
    "language_info": {
      "name": "python"
    }
  },
  "cells": [
    {
      "cell_type": "markdown",
      "metadata": {
        "id": "view-in-github",
        "colab_type": "text"
      },
      "source": [
        "<a href=\"https://colab.research.google.com/github/Yodster/yodster.github.io/blob/master/Happy_Fun_Times.ipynb\" target=\"_parent\"><img src=\"https://colab.research.google.com/assets/colab-badge.svg\" alt=\"Open In Colab\"/></a>"
      ]
    },
    {
      "cell_type": "markdown",
      "metadata": {
        "id": "cMpdsKIEG6tC"
      },
      "source": [
        "##Enter instance details"
      ]
    },
    {
      "cell_type": "code",
      "metadata": {
        "id": "8ovn73iGFwyl"
      },
      "source": [
        "#@title Initial Configuration { run: \"auto\", display-mode: \"form\" }\n",
        "API_ID = \"\"#@param {type:\"string\"}\n",
        "API_SECRET = \"\"#@param {type:\"string\"}\n",
        "#@markdown The cloud tenant is the portion of the address that comes before `.cloud.extrahop.com`\n",
        "CLOUD_TENANT = \"extrahop-sa\" #@param {type:\"string\"}\n",
        "\n",
        "!rm restAPIwrapper.py\n",
        "!wget https://dimarsky.net/extrahop/restAPIwrapper.py\n",
        "\n",
        "import re\n",
        "import logging\n",
        "import restAPIwrapper as EH\n",
        "from pprint import pprint\n",
        "\n",
        "logger = logging.getLogger()\n",
        "logging_level = \"DEBUG\" #@param [\"INFO\", \"DEBUG\"]\n",
        "eval(\"logger.setLevel(logging.{0})\".format(logging_level))\n",
        "        \n",
        "EDA = EH.ExtraHop(IPaddress = \"{0}.cloud.extrahop.com\".format(CLOUD_TENANT), cloud_id = API_ID, cloud_secret=API_SECRET)"
      ],
      "execution_count": null,
      "outputs": []
    },
    {
      "cell_type": "markdown",
      "metadata": {
        "id": "4urZFC42HI0A"
      },
      "source": [
        "##Dynamic Device Groups"
      ]
    },
    {
      "cell_type": "code",
      "metadata": {
        "id": "xOGLmT35G5dY"
      },
      "source": [
        "#@title Create Dynamic Device Group {display-mode: \"form\"}\n",
        "#@markdown This will create a device group that inlcudes all of the specified criteria (with an or filter between them).\n",
        "group_name = \"Eugene Test\" #@param {type: \"string\"}\n",
        "description = \"Making magic happen\" #@param {type: \"string\"}\n",
        "field_type = \"name\" #@param [\"name\", \"ipaddr\", \"macaddr\", \"vendor\", \"tag\", \"activity\", \"node\", \"vlan\", \"discover_time\", \"role\", \"dns_name\", \"dhcp_name\", \"netbios_name\", \"cdp_name\", \"custom_name\", \"software\", \"model\", \"is_critical\"]\n",
        "#@markdown A comma separated list of criteria for the group.\n",
        "criteria = \"one,two\" #@param {type: \"string\"}\n",
        "criteria = criteria.split(\",\")\n",
        "operator = \"=\" #@param [\">\", \"<\", \"<=\", \">=\", \"=\", \"!=\", \"startswith\", \"and\", \"or\", \"not\", \"exists\", \"not_exists\", \"~\", \"!~\"]\n",
        "\n",
        "\n",
        "post_body = {\n",
        "  \"description\": description,\n",
        "  \"dynamic\" : True,\n",
        "    \"filter\": {\n",
        "    \"rules\": [\n",
        "    ],\n",
        "    \"operator\": \"or\"\n",
        "  },\n",
        "  \"name\": group_name,\n",
        "}\n",
        "\n",
        "\n",
        "for criterion in criteria:\n",
        "  post_body['filter']['rules'].append({\n",
        "        \"field\": field_type,\n",
        "        \"operand\": criterion.strip(),\n",
        "        \"operator\": operator\n",
        "      })\n",
        "  \n",
        "logging.debug(\"Sending payload: {0}\".format(post_body))\n",
        "\n",
        "result = EDA.postDeviceGroup(post_body)\n",
        "\n",
        "logging.info(\"Received Status code of {0} and a body of {1}\".format(result.status_code,result.text))\n",
        "logging.info('New group ID is {0}'.format(result.headers['location'].split(\"/\")[-1]))\n"
      ],
      "execution_count": null,
      "outputs": []
    }
  ]
}